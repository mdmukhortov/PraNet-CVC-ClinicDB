{
  "nbformat": 4,
  "nbformat_minor": 0,
  "metadata": {
    "colab": {
      "name": "PraNet.ipynb",
      "provenance": [],
      "toc_visible": true
    },
    "kernelspec": {
      "name": "python3",
      "display_name": "Python 3"
    },
    "accelerator": "GPU",
    "widgets": {
      "application/vnd.jupyter.widget-state+json": {
        "b6425164e7f0496a9c6beb02b3cf4bdf": {
          "model_module": "@jupyter-widgets/controls",
          "model_name": "HBoxModel",
          "state": {
            "_view_name": "HBoxView",
            "_dom_classes": [],
            "_model_name": "HBoxModel",
            "_view_module": "@jupyter-widgets/controls",
            "_model_module_version": "1.5.0",
            "_view_count": null,
            "_view_module_version": "1.5.0",
            "box_style": "",
            "layout": "IPY_MODEL_886801bdd4ca4186bc93b8d8e4b637e9",
            "_model_module": "@jupyter-widgets/controls",
            "children": [
              "IPY_MODEL_9a387f25007a4a5382761fd32a7f859c",
              "IPY_MODEL_4122220b957c4a25b5f0075f95fac83d"
            ]
          }
        },
        "886801bdd4ca4186bc93b8d8e4b637e9": {
          "model_module": "@jupyter-widgets/base",
          "model_name": "LayoutModel",
          "state": {
            "_view_name": "LayoutView",
            "grid_template_rows": null,
            "right": null,
            "justify_content": null,
            "_view_module": "@jupyter-widgets/base",
            "overflow": null,
            "_model_module_version": "1.2.0",
            "_view_count": null,
            "flex_flow": null,
            "width": null,
            "min_width": null,
            "border": null,
            "align_items": null,
            "bottom": null,
            "_model_module": "@jupyter-widgets/base",
            "top": null,
            "grid_column": null,
            "overflow_y": null,
            "overflow_x": null,
            "grid_auto_flow": null,
            "grid_area": null,
            "grid_template_columns": null,
            "flex": null,
            "_model_name": "LayoutModel",
            "justify_items": null,
            "grid_row": null,
            "max_height": null,
            "align_content": null,
            "visibility": null,
            "align_self": null,
            "height": null,
            "min_height": null,
            "padding": null,
            "grid_auto_rows": null,
            "grid_gap": null,
            "max_width": null,
            "order": null,
            "_view_module_version": "1.2.0",
            "grid_template_areas": null,
            "object_position": null,
            "object_fit": null,
            "grid_auto_columns": null,
            "margin": null,
            "display": null,
            "left": null
          }
        },
        "9a387f25007a4a5382761fd32a7f859c": {
          "model_module": "@jupyter-widgets/controls",
          "model_name": "FloatProgressModel",
          "state": {
            "_view_name": "ProgressView",
            "style": "IPY_MODEL_411ac6fdd442405fb53933d6eda517d4",
            "_dom_classes": [],
            "description": "100%",
            "_model_name": "FloatProgressModel",
            "bar_style": "success",
            "max": 103197949,
            "_view_module": "@jupyter-widgets/controls",
            "_model_module_version": "1.5.0",
            "value": 103197949,
            "_view_count": null,
            "_view_module_version": "1.5.0",
            "orientation": "horizontal",
            "min": 0,
            "description_tooltip": null,
            "_model_module": "@jupyter-widgets/controls",
            "layout": "IPY_MODEL_f22e0d6dd2c24e20a1be9f1b82d12427"
          }
        },
        "4122220b957c4a25b5f0075f95fac83d": {
          "model_module": "@jupyter-widgets/controls",
          "model_name": "HTMLModel",
          "state": {
            "_view_name": "HTMLView",
            "style": "IPY_MODEL_e060aea032404f5ea3dc5f753d0581d5",
            "_dom_classes": [],
            "description": "",
            "_model_name": "HTMLModel",
            "placeholder": "​",
            "_view_module": "@jupyter-widgets/controls",
            "_model_module_version": "1.5.0",
            "value": " 98.4M/98.4M [00:10&lt;00:00, 10.3MB/s]",
            "_view_count": null,
            "_view_module_version": "1.5.0",
            "description_tooltip": null,
            "_model_module": "@jupyter-widgets/controls",
            "layout": "IPY_MODEL_a49bbe60ebcf467d882429b8030482dc"
          }
        },
        "411ac6fdd442405fb53933d6eda517d4": {
          "model_module": "@jupyter-widgets/controls",
          "model_name": "ProgressStyleModel",
          "state": {
            "_view_name": "StyleView",
            "_model_name": "ProgressStyleModel",
            "description_width": "initial",
            "_view_module": "@jupyter-widgets/base",
            "_model_module_version": "1.5.0",
            "_view_count": null,
            "_view_module_version": "1.2.0",
            "bar_color": null,
            "_model_module": "@jupyter-widgets/controls"
          }
        },
        "f22e0d6dd2c24e20a1be9f1b82d12427": {
          "model_module": "@jupyter-widgets/base",
          "model_name": "LayoutModel",
          "state": {
            "_view_name": "LayoutView",
            "grid_template_rows": null,
            "right": null,
            "justify_content": null,
            "_view_module": "@jupyter-widgets/base",
            "overflow": null,
            "_model_module_version": "1.2.0",
            "_view_count": null,
            "flex_flow": null,
            "width": null,
            "min_width": null,
            "border": null,
            "align_items": null,
            "bottom": null,
            "_model_module": "@jupyter-widgets/base",
            "top": null,
            "grid_column": null,
            "overflow_y": null,
            "overflow_x": null,
            "grid_auto_flow": null,
            "grid_area": null,
            "grid_template_columns": null,
            "flex": null,
            "_model_name": "LayoutModel",
            "justify_items": null,
            "grid_row": null,
            "max_height": null,
            "align_content": null,
            "visibility": null,
            "align_self": null,
            "height": null,
            "min_height": null,
            "padding": null,
            "grid_auto_rows": null,
            "grid_gap": null,
            "max_width": null,
            "order": null,
            "_view_module_version": "1.2.0",
            "grid_template_areas": null,
            "object_position": null,
            "object_fit": null,
            "grid_auto_columns": null,
            "margin": null,
            "display": null,
            "left": null
          }
        },
        "e060aea032404f5ea3dc5f753d0581d5": {
          "model_module": "@jupyter-widgets/controls",
          "model_name": "DescriptionStyleModel",
          "state": {
            "_view_name": "StyleView",
            "_model_name": "DescriptionStyleModel",
            "description_width": "",
            "_view_module": "@jupyter-widgets/base",
            "_model_module_version": "1.5.0",
            "_view_count": null,
            "_view_module_version": "1.2.0",
            "_model_module": "@jupyter-widgets/controls"
          }
        },
        "a49bbe60ebcf467d882429b8030482dc": {
          "model_module": "@jupyter-widgets/base",
          "model_name": "LayoutModel",
          "state": {
            "_view_name": "LayoutView",
            "grid_template_rows": null,
            "right": null,
            "justify_content": null,
            "_view_module": "@jupyter-widgets/base",
            "overflow": null,
            "_model_module_version": "1.2.0",
            "_view_count": null,
            "flex_flow": null,
            "width": null,
            "min_width": null,
            "border": null,
            "align_items": null,
            "bottom": null,
            "_model_module": "@jupyter-widgets/base",
            "top": null,
            "grid_column": null,
            "overflow_y": null,
            "overflow_x": null,
            "grid_auto_flow": null,
            "grid_area": null,
            "grid_template_columns": null,
            "flex": null,
            "_model_name": "LayoutModel",
            "justify_items": null,
            "grid_row": null,
            "max_height": null,
            "align_content": null,
            "visibility": null,
            "align_self": null,
            "height": null,
            "min_height": null,
            "padding": null,
            "grid_auto_rows": null,
            "grid_gap": null,
            "max_width": null,
            "order": null,
            "_view_module_version": "1.2.0",
            "grid_template_areas": null,
            "object_position": null,
            "object_fit": null,
            "grid_auto_columns": null,
            "margin": null,
            "display": null,
            "left": null
          }
        }
      }
    }
  },
  "cells": [
    {
      "cell_type": "code",
      "metadata": {
        "id": "0j31XYFEeuYn",
        "outputId": "bb416fad-db74-4cc4-8ff7-8be716e441d5",
        "colab": {
          "base_uri": "https://localhost:8080/",
          "height": 139
        }
      },
      "source": [
        "#!wget -O CVC-ClinicDB.rar https://ucc043e6e61110bb7ef247d710ff.dl.dropboxusercontent.com/cd/0/get/BBoZml6kBuberUIzpL6DtXKLHcQEqRr9LiVs-x3NhCeKhgGJ0U3GDQKLT84icw16ogvgt02JtIgkGJ2kyyKAN_whqS9qcVssSJBsc-OftKVUEQ/file?_download_id=671075465462148114642916227734783104483884681777600435071875955&_notify_domain=www.dropbox.com&dl=1"
      ],
      "execution_count": 1,
      "outputs": [
        {
          "output_type": "stream",
          "text": [
            "--2020-10-21 23:07:44--  https://ucc043e6e61110bb7ef247d710ff.dl.dropboxusercontent.com/cd/0/get/BBoZml6kBuberUIzpL6DtXKLHcQEqRr9LiVs-x3NhCeKhgGJ0U3GDQKLT84icw16ogvgt02JtIgkGJ2kyyKAN_whqS9qcVssSJBsc-OftKVUEQ/file?_download_id=671075465462148114642916227734783104483884681777600435071875955\n",
            "Resolving ucc043e6e61110bb7ef247d710ff.dl.dropboxusercontent.com (ucc043e6e61110bb7ef247d710ff.dl.dropboxusercontent.com)... 162.125.6.15, 2620:100:601b:15::a27d:80f\n",
            "Connecting to ucc043e6e61110bb7ef247d710ff.dl.dropboxusercontent.com (ucc043e6e61110bb7ef247d710ff.dl.dropboxusercontent.com)|162.125.6.15|:443... connected.\n",
            "HTTP request sent, awaiting response... 403 Forbidden\n",
            "2020-10-21 23:07:44 ERROR 403: Forbidden.\n",
            "\n"
          ],
          "name": "stdout"
        }
      ]
    },
    {
      "cell_type": "code",
      "metadata": {
        "id": "7chzdYZhb1iM",
        "outputId": "8d9f5591-1810-427e-c66d-448c76983bdb",
        "colab": {
          "base_uri": "https://localhost:8080/",
          "height": 34
        }
      },
      "source": [
        "from google.colab import drive\n",
        "drive.mount('/content/drive')"
      ],
      "execution_count": 2,
      "outputs": [
        {
          "output_type": "stream",
          "text": [
            "Mounted at /content/drive\n"
          ],
          "name": "stdout"
        }
      ]
    },
    {
      "cell_type": "code",
      "metadata": {
        "id": "ggD3zpXYcMd0",
        "outputId": "4f069e6c-0bcd-4e42-d254-0e4ed8188de1",
        "colab": {
          "base_uri": "https://localhost:8080/",
          "height": 51
        }
      },
      "source": [
        "!unrar -s x '/content/drive/My Drive/CVC-ClinicDB.rar' CVC-ClinicDB > ext_log.txt\n",
        "!nvidia-smi --query-gpu=gpu_name,driver_version,memory.total --format=csv"
      ],
      "execution_count": 3,
      "outputs": [
        {
          "output_type": "stream",
          "text": [
            "name, driver_version, memory.total [MiB]\n",
            "Tesla T4, 418.67, 15079 MiB\n"
          ],
          "name": "stdout"
        }
      ]
    },
    {
      "cell_type": "markdown",
      "metadata": {
        "id": "YBFlsJ5qx8am"
      },
      "source": [
        "# Imports"
      ]
    },
    {
      "cell_type": "code",
      "metadata": {
        "id": "BGgR1zIVx_Lb"
      },
      "source": [
        "import math\n",
        "import os\n",
        "from os import listdir\n",
        "from os.path import isfile, join\n",
        "import matplotlib.image as mpimg\n",
        "import cv2\n",
        "import numpy as np\n",
        "import pandas as pd\n",
        "import matplotlib.pyplot as plt\n",
        "from itertools import cycle\n",
        "from scipy import interp\n",
        "import pickle\n",
        "from collections import defaultdict, OrderedDict\n",
        "from tqdm.notebook import tqdm\n",
        "import warnings\n",
        "from IPython.display import clear_output\n",
        "\n",
        "\n",
        "from sklearn.metrics import roc_curve, auc, roc_auc_score, confusion_matrix\n",
        "from sklearn.model_selection import train_test_split\n",
        "\n",
        "\n",
        "import skimage.transform\n",
        "import cv2\n",
        "from PIL import Image\n",
        "import scipy.ndimage as ndimage\n",
        "import scipy.ndimage.filters as filters\n",
        "\n",
        "\n",
        "import torch\n",
        "import torch.nn as nn\n",
        "import torchvision\n",
        "import torch.utils.model_zoo as model_zoo\n",
        "import torchvision.transforms as transforms\n",
        "from torch.utils.data import Dataset, DataLoader\n",
        "from torch.nn import functional as F\n",
        "from torch.autograd import Variable\n",
        "import torch.optim as optim\n",
        "from torch.autograd import Function\n",
        "from torchvision import models, utils"
      ],
      "execution_count": 5,
      "outputs": []
    },
    {
      "cell_type": "markdown",
      "metadata": {
        "id": "p4EFDm9Ro1np"
      },
      "source": [
        "# Res2Net"
      ]
    },
    {
      "cell_type": "code",
      "metadata": {
        "id": "WTMa3SzTovye"
      },
      "source": [
        "model_urls = {\n",
        "    'res2net50_v1b_26w_4s': 'https://shanghuagao.oss-cn-beijing.aliyuncs.com/res2net/res2net50_v1b_26w_4s-3cf99910.pth',\n",
        "    'res2net101_v1b_26w_4s': 'https://shanghuagao.oss-cn-beijing.aliyuncs.com/res2net/res2net101_v1b_26w_4s-0812c246.pth',\n",
        "}\n",
        "\n",
        "\n",
        "class Bottle2neck(nn.Module):\n",
        "    expansion = 4\n",
        "\n",
        "    def __init__(self, inplanes, planes, stride=1, downsample=None, baseWidth=26, scale=4, stype='normal'):\n",
        "        \"\"\" Constructor\n",
        "        Args:\n",
        "            inplanes: input channel dimensionality\n",
        "            planes: output channel dimensionality\n",
        "            stride: conv stride. Replaces pooling layer.\n",
        "            downsample: None when stride = 1\n",
        "            baseWidth: basic width of conv3x3\n",
        "            scale: number of scale.\n",
        "            type: 'normal': normal set. 'stage': first block of a new stage.\n",
        "        \"\"\"\n",
        "        super(Bottle2neck, self).__init__()\n",
        "\n",
        "        width = int(math.floor(planes * (baseWidth / 64.0)))\n",
        "        self.conv1 = nn.Conv2d(inplanes, width * scale, kernel_size=1, bias=False)\n",
        "        self.bn1 = nn.BatchNorm2d(width * scale)\n",
        "\n",
        "        if scale == 1:\n",
        "            self.nums = 1\n",
        "        else:\n",
        "            self.nums = scale - 1\n",
        "        if stype == 'stage':\n",
        "            self.pool = nn.AvgPool2d(kernel_size=3, stride=stride, padding=1)\n",
        "        convs = []\n",
        "        bns = []\n",
        "        for i in range(self.nums):\n",
        "            convs.append(nn.Conv2d(width, width, kernel_size=3, stride=stride, padding=1, bias=False))\n",
        "            bns.append(nn.BatchNorm2d(width))\n",
        "        self.convs = nn.ModuleList(convs)\n",
        "        self.bns = nn.ModuleList(bns)\n",
        "\n",
        "        self.conv3 = nn.Conv2d(width * scale, planes * self.expansion, kernel_size=1, bias=False)\n",
        "        self.bn3 = nn.BatchNorm2d(planes * self.expansion)\n",
        "\n",
        "        self.relu = nn.ReLU(inplace=True)\n",
        "        self.downsample = downsample\n",
        "        self.stype = stype\n",
        "        self.scale = scale\n",
        "        self.width = width\n",
        "\n",
        "    def forward(self, x):\n",
        "        residual = x\n",
        "\n",
        "        out = self.conv1(x)\n",
        "        out = self.bn1(out)\n",
        "        out = self.relu(out)\n",
        "\n",
        "        spx = torch.split(out, self.width, 1)\n",
        "        for i in range(self.nums):\n",
        "            if i == 0 or self.stype == 'stage':\n",
        "                sp = spx[i]\n",
        "            else:\n",
        "                sp = sp + spx[i]\n",
        "            sp = self.convs[i](sp)\n",
        "            sp = self.relu(self.bns[i](sp))\n",
        "            if i == 0:\n",
        "                out = sp\n",
        "            else:\n",
        "                out = torch.cat((out, sp), 1)\n",
        "        if self.scale != 1 and self.stype == 'normal':\n",
        "            out = torch.cat((out, spx[self.nums]), 1)\n",
        "        elif self.scale != 1 and self.stype == 'stage':\n",
        "            out = torch.cat((out, self.pool(spx[self.nums])), 1)\n",
        "\n",
        "        out = self.conv3(out)\n",
        "        out = self.bn3(out)\n",
        "\n",
        "        if self.downsample is not None:\n",
        "            residual = self.downsample(x)\n",
        "\n",
        "        out += residual\n",
        "        out = self.relu(out)\n",
        "\n",
        "        return out\n",
        "\n",
        "\n",
        "class Res2Net(nn.Module):\n",
        "\n",
        "    def __init__(self, block, layers, baseWidth=26, scale=4, num_classes=1000):\n",
        "        self.inplanes = 64\n",
        "        super(Res2Net, self).__init__()\n",
        "        self.baseWidth = baseWidth\n",
        "        self.scale = scale\n",
        "        self.conv1 = nn.Sequential(\n",
        "            nn.Conv2d(3, 32, 3, 2, 1, bias=False),\n",
        "            nn.BatchNorm2d(32),\n",
        "            nn.ReLU(inplace=True),\n",
        "            nn.Conv2d(32, 32, 3, 1, 1, bias=False),\n",
        "            nn.BatchNorm2d(32),\n",
        "            nn.ReLU(inplace=True),\n",
        "            nn.Conv2d(32, 64, 3, 1, 1, bias=False)\n",
        "        )\n",
        "        self.bn1 = nn.BatchNorm2d(64)\n",
        "        self.relu = nn.ReLU()\n",
        "        self.maxpool = nn.MaxPool2d(kernel_size=3, stride=2, padding=1)\n",
        "        self.layer1 = self._make_layer(block, 64, layers[0])\n",
        "        self.layer2 = self._make_layer(block, 128, layers[1], stride=2)\n",
        "        self.layer3 = self._make_layer(block, 256, layers[2], stride=2)\n",
        "        self.layer4 = self._make_layer(block, 512, layers[3], stride=2)\n",
        "        self.avgpool = nn.AdaptiveAvgPool2d(1)\n",
        "        self.fc = nn.Linear(512 * block.expansion, num_classes)\n",
        "\n",
        "        for m in self.modules():\n",
        "            if isinstance(m, nn.Conv2d):\n",
        "                nn.init.kaiming_normal_(m.weight, mode='fan_out', nonlinearity='relu')\n",
        "            elif isinstance(m, nn.BatchNorm2d):\n",
        "                nn.init.constant_(m.weight, 1)\n",
        "                nn.init.constant_(m.bias, 0)\n",
        "\n",
        "    def _make_layer(self, block, planes, blocks, stride=1):\n",
        "        downsample = None\n",
        "        if stride != 1 or self.inplanes != planes * block.expansion:\n",
        "            downsample = nn.Sequential(\n",
        "                nn.AvgPool2d(kernel_size=stride, stride=stride,\n",
        "                             ceil_mode=True, count_include_pad=False),\n",
        "                nn.Conv2d(self.inplanes, planes * block.expansion,\n",
        "                          kernel_size=1, stride=1, bias=False),\n",
        "                nn.BatchNorm2d(planes * block.expansion),\n",
        "            )\n",
        "\n",
        "        layers = []\n",
        "        layers.append(block(self.inplanes, planes, stride, downsample=downsample,\n",
        "                            stype='stage', baseWidth=self.baseWidth, scale=self.scale))\n",
        "        self.inplanes = planes * block.expansion\n",
        "        for i in range(1, blocks):\n",
        "            layers.append(block(self.inplanes, planes, baseWidth=self.baseWidth, scale=self.scale))\n",
        "\n",
        "        return nn.Sequential(*layers)\n",
        "\n",
        "    def forward(self, x):\n",
        "        x = self.conv1(x)\n",
        "        x = self.bn1(x)\n",
        "        x = self.relu(x)\n",
        "        x = self.maxpool(x)\n",
        "\n",
        "        x = self.layer1(x)\n",
        "        x = self.layer2(x)\n",
        "        x = self.layer3(x)\n",
        "        x = self.layer4(x)\n",
        "\n",
        "        x = self.avgpool(x)\n",
        "        x = x.view(x.size(0), -1)\n",
        "        x = self.fc(x)\n",
        "\n",
        "        return x\n",
        "\n",
        "\n",
        "def res2net50_v1b_26w_4s(pretrained=False, **kwargs):\n",
        "    \"\"\"Constructs a Res2Net-50_v1b lib.\n",
        "    Res2Net-50 refers to the Res2Net-50_v1b_26w_4s.\n",
        "    Args:\n",
        "        pretrained (bool): If True, returns a lib pre-trained on ImageNet\n",
        "    \"\"\"\n",
        "    model = Res2Net(Bottle2neck, [3, 4, 6, 3], baseWidth=26, scale=4, **kwargs)\n",
        "    if pretrained:\n",
        "        model.load_state_dict(model_zoo.load_url(model_urls['res2net50_v1b_26w_4s']))\n",
        "    return model\n",
        "\n",
        "\n",
        "def res2net101_v1b_26w_4s(pretrained=False, **kwargs):\n",
        "    \"\"\"Constructs a Res2Net-101_v1b_26w_4s lib.\n",
        "    Args:\n",
        "        pretrained (bool): If True, returns a lib pre-trained on ImageNet\n",
        "    \"\"\"\n",
        "    model = Res2Net(Bottle2neck, [3, 4, 23, 3], baseWidth=26, scale=4, **kwargs)\n",
        "    if pretrained:\n",
        "        model.load_state_dict(model_zoo.load_url(model_urls['res2net101_v1b_26w_4s']))\n",
        "    return model\n"
      ],
      "execution_count": 5,
      "outputs": []
    },
    {
      "cell_type": "code",
      "metadata": {
        "id": "3MVlcKMko-1O",
        "outputId": "b22ff307-2799-49e7-8fba-27a4cb6a6b50",
        "colab": {
          "base_uri": "https://localhost:8080/",
          "height": 120,
          "referenced_widgets": [
            "b6425164e7f0496a9c6beb02b3cf4bdf",
            "886801bdd4ca4186bc93b8d8e4b637e9",
            "9a387f25007a4a5382761fd32a7f859c",
            "4122220b957c4a25b5f0075f95fac83d",
            "411ac6fdd442405fb53933d6eda517d4",
            "f22e0d6dd2c24e20a1be9f1b82d12427",
            "e060aea032404f5ea3dc5f753d0581d5",
            "a49bbe60ebcf467d882429b8030482dc"
          ]
        }
      },
      "source": [
        "images = torch.rand(1, 3, 224, 224).cuda(0)\n",
        "model = res2net50_v1b_26w_4s(pretrained=True)\n",
        "model = model.cuda(0)\n",
        "print(model(images).size())"
      ],
      "execution_count": 6,
      "outputs": [
        {
          "output_type": "stream",
          "text": [
            "Downloading: \"https://shanghuagao.oss-cn-beijing.aliyuncs.com/res2net/res2net50_v1b_26w_4s-3cf99910.pth\" to /root/.cache/torch/hub/checkpoints/res2net50_v1b_26w_4s-3cf99910.pth\n"
          ],
          "name": "stderr"
        },
        {
          "output_type": "display_data",
          "data": {
            "application/vnd.jupyter.widget-view+json": {
              "model_id": "b6425164e7f0496a9c6beb02b3cf4bdf",
              "version_minor": 0,
              "version_major": 2
            },
            "text/plain": [
              "HBox(children=(FloatProgress(value=0.0, max=103197949.0), HTML(value='')))"
            ]
          },
          "metadata": {
            "tags": []
          }
        },
        {
          "output_type": "stream",
          "text": [
            "\n",
            "torch.Size([1, 1000])\n"
          ],
          "name": "stdout"
        }
      ]
    },
    {
      "cell_type": "markdown",
      "metadata": {
        "id": "qJT2IBA7pA2t"
      },
      "source": [
        "# Dataset"
      ]
    },
    {
      "cell_type": "code",
      "metadata": {
        "id": "L5bZoaMQevI8",
        "outputId": "4c24b7f5-4139-4902-9c97-ac234d9acd2a",
        "colab": {
          "base_uri": "https://localhost:8080/",
          "height": 349
        }
      },
      "source": [
        "\n",
        "mypath = 'CVC-ClinicDB/Ground Truth/'\n",
        "onlyfiles = [f.split('.')[0] for f in listdir(mypath) if isfile(join(mypath, f))]\n",
        "\n",
        "#/content/CVC-ClinicDB/Original\n",
        "def draw_plots(idx):\n",
        "    fig, ax = plt.subplots(1, 2, figsize=(15,15))\n",
        "    mask = cv2.imread(f'./CVC-ClinicDB/Ground Truth/{idx}.tif')\n",
        "    original = cv2.imread(f'./CVC-ClinicDB/Original/{idx}.tif')\n",
        "    ax[0].imshow(original)\n",
        "    ax[0].set_title(f'./CVC-ClinicDB/Ground Truth/{idx}.tif')\n",
        "    ax[1].imshow(mask)\n",
        "    ax[1].set_title(f'./CVC-ClinicDB/Original/{idx}.tif')\n",
        "    plt.show()\n",
        "\n",
        "draw_plots(onlyfiles[3])"
      ],
      "execution_count": 6,
      "outputs": [
        {
          "output_type": "display_data",
          "data": {
            "image/png": "[encoded data removed]",
            "text/plain": [
              "<Figure size 1080x1080 with 2 Axes>"
            ]
          },
          "metadata": {
            "tags": [],
            "needs_background": "light"
          }
        }
      ]
    },
    {
      "cell_type": "code",
      "metadata": {
        "id": "6iHOtt62qf4R"
      },
      "source": [
        "image_size = (352, 352)\n",
        "mean = [0.485, 0.456, 0.406]\n",
        "std = [0.229, 0.224, 0.225]\n",
        "\n",
        "\n",
        "#img_root = 'CVC-ClinicDB/Ground Truth/'\n",
        "#msk_root = 'CVC-ClinicDB/Original/'\n",
        "\n",
        "\n",
        "train_transform_images = transforms.Compose([\n",
        "                                      transforms.Resize(image_size),\n",
        "                                      transforms.ToTensor(),\n",
        "                                      transforms.Normalize(mean, std)])\n",
        "train_transform_masks = transforms.Compose([\n",
        "                                      transforms.Resize(image_size),\n",
        "                                      transforms.ToTensor()])\n",
        "\n",
        "\n",
        "\n",
        "class PolypDataset(Dataset):\n",
        "  def __init__(self, root_path, img_transforms, mask_transforms):\n",
        "    self.img_root = join(root_path, 'Ground Truth')\n",
        "    self.msk_root = join(root_path, 'Original')\n",
        "    self.image_names = [f for f in listdir(self.img_root) if isfile(join(self.img_root, f))]\n",
        "    self.masks_names = [f for f in listdir(self.msk_root) if isfile(join(self.msk_root, f))]\n",
        "    if self.image_names == self.masks_names:\n",
        "        raise ValueError('There are differences in masks and images')\n",
        "    self.img_transforms = img_transforms\n",
        "    self.mask_transforms = mask_transforms\n",
        "\n",
        "  def __len__(self):\n",
        "    return len(self.images)\n",
        "\n",
        "  def __getitem__(self, item):\n",
        "    image = cv2.imread(join(self.img_root, self.image_names[item]))#we use cv2 because PIL didnt load the image and we convert later to PIL image\n",
        "    image = cv2.cvtColor(image, cv2.COLOR_BGR2RGB)\n",
        "    image = Image.fromarray(image) #Converting CV2 to PIL\n",
        "    mask = cv2.imread(join(self.msk_root, self.masks[item])) #we use cv2 because PIL didnt load the image and we convert later to PIL image\n",
        "    mask = cv2.cvtColor(mask, cv2.COLOR_BGR2RGB)\n",
        "    mask = Image.fromarray(mask) #we use cv2 because PIL didnt load the image and we convert later to PIL image\n",
        "    transformed_image = self.img_transforms(image)\n",
        "    transformed_mask = self.mask_transforms(mask)\n",
        "    return transformed_image , transformed_mask\n",
        "\n",
        "\n",
        "\n",
        "\n",
        "#train_dataset = PolypDataset(train_img, train_masks, train_transform_images, train_transform_masks)\n",
        "\n",
        "\n",
        "#train_dataloader = torch.utils.data.DataLoader(train_dataset,num_workers=4, batch_size=batch_size, shuffle=True)"
      ],
      "execution_count": 13,
      "outputs": []
    },
    {
      "cell_type": "code",
      "metadata": {
        "id": "Pg-khBksz3yb",
        "outputId": "be87e851-58db-4719-b0ae-c65ebaa6eb26",
        "colab": {
          "base_uri": "https://localhost:8080/",
          "height": 34
        }
      },
      "source": [
        "[1, 2, 3] == [1, 3, 3]"
      ],
      "execution_count": 9,
      "outputs": [
        {
          "output_type": "execute_result",
          "data": {
            "text/plain": [
              "False"
            ]
          },
          "metadata": {
            "tags": []
          },
          "execution_count": 9
        }
      ]
    },
    {
      "cell_type": "code",
      "metadata": {
        "id": "pzg4h0fbj_JD"
      },
      "source": [
        ""
      ],
      "execution_count": 11,
      "outputs": []
    },
    {
      "cell_type": "markdown",
      "metadata": {
        "id": "Hkty64ndpJNE"
      },
      "source": [
        "# Model PraNet"
      ]
    },
    {
      "cell_type": "code",
      "metadata": {
        "id": "kcvCBmGmIykY"
      },
      "source": [
        "class BasicConv2d(nn.Module):\n",
        "    def __init__(self, in_planes, out_planes, kernel_size, stride=1, padding=0, dilation=1):\n",
        "        super(BasicConv2d, self).__init__()\n",
        "        self.conv = nn.Conv2d(in_planes, out_planes,\n",
        "                              kernel_size=kernel_size, stride=stride,\n",
        "                              padding=padding, dilation=dilation, bias=False)\n",
        "        self.bn = nn.BatchNorm2d(out_planes)\n",
        "\n",
        "    def forward(self, x):\n",
        "        x = self.conv(x)\n",
        "        x = self.bn(x)\n",
        "        return x\n",
        "\n",
        "\n",
        "class RFB_modified(nn.Module):\n",
        "    def __init__(self, in_channel, out_channel):\n",
        "        super(RFB_modified, self).__init__()\n",
        "        self.relu = nn.ReLU(True)\n",
        "        self.branch0 = nn.Sequential(\n",
        "            BasicConv2d(in_channel, out_channel, 1),\n",
        "        )\n",
        "        self.branch1 = nn.Sequential(\n",
        "            BasicConv2d(in_channel, out_channel, 1),\n",
        "            BasicConv2d(out_channel, out_channel, kernel_size=(1, 3), padding=(0, 1)),\n",
        "            BasicConv2d(out_channel, out_channel, kernel_size=(3, 1), padding=(1, 0)),\n",
        "            BasicConv2d(out_channel, out_channel, 3, padding=3, dilation=3)\n",
        "        )\n",
        "        self.branch2 = nn.Sequential(\n",
        "            BasicConv2d(in_channel, out_channel, 1),\n",
        "            BasicConv2d(out_channel, out_channel, kernel_size=(1, 5), padding=(0, 2)),\n",
        "            BasicConv2d(out_channel, out_channel, kernel_size=(5, 1), padding=(2, 0)),\n",
        "            BasicConv2d(out_channel, out_channel, 3, padding=5, dilation=5)\n",
        "        )\n",
        "        self.branch3 = nn.Sequential(\n",
        "            BasicConv2d(in_channel, out_channel, 1),\n",
        "            BasicConv2d(out_channel, out_channel, kernel_size=(1, 7), padding=(0, 3)),\n",
        "            BasicConv2d(out_channel, out_channel, kernel_size=(7, 1), padding=(3, 0)),\n",
        "            BasicConv2d(out_channel, out_channel, 3, padding=7, dilation=7)\n",
        "        )\n",
        "        self.conv_cat = BasicConv2d(4*out_channel, out_channel, 3, padding=1)\n",
        "        self.conv_res = BasicConv2d(in_channel, out_channel, 1)\n",
        "\n",
        "    def forward(self, x):\n",
        "        x0 = self.branch0(x)\n",
        "        x1 = self.branch1(x)\n",
        "        x2 = self.branch2(x)\n",
        "        x3 = self.branch3(x)\n",
        "        x_cat = self.conv_cat(torch.cat((x0, x1, x2, x3), 1))\n",
        "\n",
        "        x = self.relu(x_cat + self.conv_res(x))\n",
        "        return x\n",
        "\n",
        "\n",
        "class aggregation(nn.Module):\n",
        "    # dense aggregation, it can be replaced by other aggregation previous, such as DSS, amulet, and so on.\n",
        "    # used after MSF\n",
        "    def __init__(self, channel):\n",
        "        super(aggregation, self).__init__()\n",
        "        self.relu = nn.ReLU(True)\n",
        "\n",
        "        self.upsample = nn.Upsample(scale_factor=2, mode='bilinear', align_corners=True)\n",
        "        self.conv_upsample1 = BasicConv2d(channel, channel, 3, padding=1)\n",
        "        self.conv_upsample2 = BasicConv2d(channel, channel, 3, padding=1)\n",
        "        self.conv_upsample3 = BasicConv2d(channel, channel, 3, padding=1)\n",
        "        self.conv_upsample4 = BasicConv2d(channel, channel, 3, padding=1)\n",
        "        self.conv_upsample5 = BasicConv2d(2*channel, 2*channel, 3, padding=1)\n",
        "\n",
        "        self.conv_concat2 = BasicConv2d(2*channel, 2*channel, 3, padding=1)\n",
        "        self.conv_concat3 = BasicConv2d(3*channel, 3*channel, 3, padding=1)\n",
        "        self.conv4 = BasicConv2d(3*channel, 3*channel, 3, padding=1)\n",
        "        self.conv5 = nn.Conv2d(3*channel, 1, 1)\n",
        "\n",
        "    def forward(self, x1, x2, x3):\n",
        "        x1_1 = x1\n",
        "        x2_1 = self.conv_upsample1(self.upsample(x1)) * x2\n",
        "        x3_1 = self.conv_upsample2(self.upsample(self.upsample(x1))) \\\n",
        "               * self.conv_upsample3(self.upsample(x2)) * x3\n",
        "\n",
        "        x2_2 = torch.cat((x2_1, self.conv_upsample4(self.upsample(x1_1))), 1)\n",
        "        x2_2 = self.conv_concat2(x2_2)\n",
        "\n",
        "        x3_2 = torch.cat((x3_1, self.conv_upsample5(self.upsample(x2_2))), 1)\n",
        "        x3_2 = self.conv_concat3(x3_2)\n",
        "\n",
        "        x = self.conv4(x3_2)\n",
        "        x = self.conv5(x)\n",
        "\n",
        "        return x"
      ],
      "execution_count": null,
      "outputs": []
    },
    {
      "cell_type": "code",
      "metadata": {
        "id": "o3izzVwl9Guu"
      },
      "source": [
        "class PraNet(nn.Module):\n",
        "    # res2net based encoder decoder\n",
        "    def __init__(self, channel=32):\n",
        "        super(PraNet, self).__init__()\n",
        "        # ---- ResNet Backbone ----\n",
        "        self.resnet = res2net50_v1b_26w_4s(pretrained=True).requires_grad_(False)\n",
        "        # ---- Receptive Field Block like module ----\n",
        "        self.rfb2_1 = RFB_modified(512, channel)\n",
        "        self.rfb3_1 = RFB_modified(1024, channel)\n",
        "        self.rfb4_1 = RFB_modified(2048, channel)\n",
        "        # ---- Partial Decoder ----\n",
        "        self.agg1 = aggregation(channel)\n",
        "        # ---- reverse attention branch 4 ----\n",
        "        self.ra4_conv1 = BasicConv2d(2048, 256, kernel_size=1)\n",
        "        self.ra4_conv2 = BasicConv2d(256, 256, kernel_size=5, padding=2)\n",
        "        self.ra4_conv3 = BasicConv2d(256, 256, kernel_size=5, padding=2)\n",
        "        self.ra4_conv4 = BasicConv2d(256, 256, kernel_size=5, padding=2)\n",
        "        self.ra4_conv5 = BasicConv2d(256, 1, kernel_size=1)\n",
        "        # ---- reverse attention branch 3 ----\n",
        "        self.ra3_conv1 = BasicConv2d(1024, 64, kernel_size=1)\n",
        "        self.ra3_conv2 = BasicConv2d(64, 64, kernel_size=3, padding=1)\n",
        "        self.ra3_conv3 = BasicConv2d(64, 64, kernel_size=3, padding=1)\n",
        "        self.ra3_conv4 = BasicConv2d(64, 1, kernel_size=3, padding=1)\n",
        "        # ---- reverse attention branch 2 ----\n",
        "        self.ra2_conv1 = BasicConv2d(512, 64, kernel_size=1)\n",
        "        self.ra2_conv2 = BasicConv2d(64, 64, kernel_size=3, padding=1)\n",
        "        self.ra2_conv3 = BasicConv2d(64, 64, kernel_size=3, padding=1)\n",
        "        self.ra2_conv4 = BasicConv2d(64, 1, kernel_size=3, padding=1)\n",
        "\n",
        "    def forward(self, x):\n",
        "        x = self.resnet.conv1(x)\n",
        "        x = self.resnet.bn1(x)\n",
        "        x = self.resnet.relu(x)\n",
        "        x = self.resnet.maxpool(x)      # bs, 64, 88, 88\n",
        "        # ---- low-level features ----\n",
        "        x1 = self.resnet.layer1(x)      # bs, 256, 88, 88\n",
        "        x2 = self.resnet.layer2(x1)     # bs, 512, 44, 44\n",
        "\n",
        "        x3 = self.resnet.layer3(x2)     # bs, 1024, 22, 22\n",
        "        x4 = self.resnet.layer4(x3)     # bs, 2048, 11, 11\n",
        "        x2_rfb = self.rfb2_1(x2)        # channel -> 32\n",
        "        x3_rfb = self.rfb3_1(x3)        # channel -> 32\n",
        "        x4_rfb = self.rfb4_1(x4)        # channel -> 32\n",
        "\n",
        "        ra5_feat = self.agg1(x4_rfb, x3_rfb, x2_rfb)\n",
        "        lateral_map_5 = F.interpolate(ra5_feat, scale_factor=8, mode='bilinear')    # NOTES: Sup-1 (bs, 1, 44, 44) -> (bs, 1, 352, 352)\n",
        "\n",
        "        # ---- reverse attention branch_4 ----\n",
        "        crop_4 = F.interpolate(ra5_feat, scale_factor=0.25, mode='bilinear')\n",
        "        x = -1*(torch.sigmoid(crop_4)) + 1\n",
        "        x = x.expand(-1, 2048, -1, -1).mul(x4)\n",
        "        x = self.ra4_conv1(x)\n",
        "        x = F.relu(self.ra4_conv2(x))\n",
        "        x = F.relu(self.ra4_conv3(x))\n",
        "        x = F.relu(self.ra4_conv4(x))\n",
        "        ra4_feat = self.ra4_conv5(x)\n",
        "        x = ra4_feat + crop_4\n",
        "        lateral_map_4 = F.interpolate(x, scale_factor=32, mode='bilinear')  # NOTES: Sup-2 (bs, 1, 11, 11) -> (bs, 1, 352, 352)\n",
        "\n",
        "        # ---- reverse attention branch_3 ----\n",
        "        crop_3 = F.interpolate(x, scale_factor=2, mode='bilinear')\n",
        "        x = -1*(torch.sigmoid(crop_3)) + 1\n",
        "        x = x.expand(-1, 1024, -1, -1).mul(x3)\n",
        "        x = self.ra3_conv1(x)\n",
        "        x = F.relu(self.ra3_conv2(x))\n",
        "        x = F.relu(self.ra3_conv3(x))\n",
        "        ra3_feat = self.ra3_conv4(x)\n",
        "        x = ra3_feat + crop_3\n",
        "        lateral_map_3 = F.interpolate(x, scale_factor=16, mode='bilinear')  # NOTES: Sup-3 (bs, 1, 22, 22) -> (bs, 1, 352, 352)\n",
        "\n",
        "        # ---- reverse attention branch_2 ----\n",
        "        crop_2 = F.interpolate(x, scale_factor=2, mode='bilinear')\n",
        "        x = -1*(torch.sigmoid(crop_2)) + 1\n",
        "        x = x.expand(-1, 512, -1, -1).mul(x2)\n",
        "        x = self.ra2_conv1(x)\n",
        "        x = F.relu(self.ra2_conv2(x))\n",
        "        x = F.relu(self.ra2_conv3(x))\n",
        "        ra2_feat = self.ra2_conv4(x)\n",
        "        x = ra2_feat + crop_2\n",
        "        lateral_map_2 = F.interpolate(x, scale_factor=8, mode='bilinear')   # NOTES: Sup-4 (bs, 1, 44, 44) -> (bs, 1, 352, 352)\n",
        "\n",
        "        return lateral_map_5, lateral_map_4, lateral_map_3, lateral_map_2\n"
      ],
      "execution_count": null,
      "outputs": []
    },
    {
      "cell_type": "code",
      "metadata": {
        "id": "e24v5f8F9WJw",
        "outputId": "e4ee7368-3f45-4201-ae07-fda800092acc",
        "colab": {
          "base_uri": "https://localhost:8080/",
          "height": 105
        }
      },
      "source": [
        "ras = PraNet().cuda()\n",
        "input_tensor = torch.randn(1, 3, 352, 352).cuda()\n",
        "out = ras(input_tensor)"
      ],
      "execution_count": null,
      "outputs": [
        {
          "output_type": "stream",
          "text": [
            "/usr/local/lib/python3.6/dist-packages/torch/nn/functional.py:3121: UserWarning: Default upsampling behavior when mode=bilinear is changed to align_corners=False since 0.4.0. Please specify align_corners=True if the old behavior is desired. See the documentation of nn.Upsample for details.\n",
            "  \"See the documentation of nn.Upsample for details.\".format(mode))\n",
            "/usr/local/lib/python3.6/dist-packages/torch/nn/functional.py:3000: UserWarning: The default behavior for interpolate/upsample with float scale_factor changed in 1.6.0 to align with other frameworks/libraries, and uses scale_factor directly, instead of relying on the computed output size. If you wish to keep the old behavior, please set recompute_scale_factor=True. See the documentation of nn.Upsample for details. \n",
            "  warnings.warn(\"The default behavior for interpolate/upsample with float scale_factor changed \"\n"
          ],
          "name": "stderr"
        }
      ]
    },
    {
      "cell_type": "markdown",
      "metadata": {
        "id": "fQ9lNOdzpPhY"
      },
      "source": [
        "# Train Loop"
      ]
    },
    {
      "cell_type": "code",
      "metadata": {
        "id": "o_sDkj1-qJng"
      },
      "source": [
        "def count_parameters(model):\n",
        "    return sum(p.numel() for p in model.parameters() if p.requires_grad)"
      ],
      "execution_count": null,
      "outputs": []
    },
    {
      "cell_type": "code",
      "metadata": {
        "id": "kqPGJhS_ONzu",
        "outputId": "d0e9ab44-c87e-445b-c2f0-4f62ffba3c08",
        "colab": {
          "base_uri": "https://localhost:8080/",
          "height": 156
        }
      },
      "source": [
        "!pip install thop"
      ],
      "execution_count": null,
      "outputs": [
        {
          "output_type": "stream",
          "text": [
            "Collecting thop\n",
            "  Downloading https://files.pythonhosted.org/packages/6c/8b/22ce44e1c71558161a8bd54471123cc796589c7ebbfc15a7e8932e522f83/thop-0.0.31.post2005241907-py3-none-any.whl\n",
            "Requirement already satisfied: torch>=1.0.0 in /usr/local/lib/python3.6/dist-packages (from thop) (1.6.0+cu101)\n",
            "Requirement already satisfied: future in /usr/local/lib/python3.6/dist-packages (from torch>=1.0.0->thop) (0.16.0)\n",
            "Requirement already satisfied: numpy in /usr/local/lib/python3.6/dist-packages (from torch>=1.0.0->thop) (1.18.5)\n",
            "Installing collected packages: thop\n",
            "Successfully installed thop-0.0.31.post2005241907\n"
          ],
          "name": "stdout"
        }
      ]
    },
    {
      "cell_type": "code",
      "metadata": {
        "id": "LdluaYC8OMLX"
      },
      "source": [
        "import torch\n",
        "import numpy as np\n",
        "from thop import profile\n",
        "from thop import clever_format\n",
        "\n",
        "\n",
        "def clip_gradient(optimizer, grad_clip):\n",
        "    \"\"\"\n",
        "    For calibrating misalignment gradient via cliping gradient technique\n",
        "    :param optimizer:\n",
        "    :param grad_clip:\n",
        "    :return:\n",
        "    \"\"\"\n",
        "    for group in optimizer.param_groups:\n",
        "        for param in group['params']:\n",
        "            if param.grad is not None:\n",
        "                param.grad.data.clamp_(-grad_clip, grad_clip)\n",
        "\n",
        "\n",
        "def adjust_lr(optimizer, init_lr, epoch, decay_rate=0.1, decay_epoch=30):\n",
        "    decay = decay_rate ** (epoch // decay_epoch)\n",
        "    for param_group in optimizer.param_groups:\n",
        "        param_group['lr'] *= decay\n",
        "\n",
        "\n",
        "class AvgMeter(object):\n",
        "    def __init__(self, num=40):\n",
        "        self.num = num\n",
        "        self.reset()\n",
        "\n",
        "    def reset(self):\n",
        "        self.val = 0\n",
        "        self.avg = 0\n",
        "        self.sum = 0\n",
        "        self.count = 0\n",
        "        self.losses = []\n",
        "\n",
        "    def update(self, val, n=1):\n",
        "        self.val = val\n",
        "        self.sum += val * n\n",
        "        self.count += n\n",
        "        self.avg = self.sum / self.count\n",
        "        self.losses.append(val)\n",
        "\n",
        "    def show(self):\n",
        "        return torch.mean(torch.stack(self.losses[np.maximum(len(self.losses)-self.num, 0):]))\n",
        "\n",
        "\n",
        "def CalParams(model, input_tensor):\n",
        "    \"\"\"\n",
        "    Usage:\n",
        "        Calculate Params and FLOPs via [THOP](https://github.com/Lyken17/pytorch-OpCounter)\n",
        "    Necessarity:\n",
        "        from thop import profile\n",
        "        from thop import clever_format\n",
        "    :param model:\n",
        "    :param input_tensor:\n",
        "    :return:\n",
        "    \"\"\"\n",
        "    flops, params = profile(model, inputs=(input_tensor,))\n",
        "    flops, params = clever_format([flops, params], \"%.3f\")\n",
        "    print('[Statistics Information]\\nFLOPs: {}\\nParams: {}'.format(flops, params))"
      ],
      "execution_count": null,
      "outputs": []
    },
    {
      "cell_type": "code",
      "metadata": {
        "id": "MeYAUdMGN5ZV",
        "outputId": "0c30ec7b-54e9-44da-eac8-9a2a94269f6f",
        "colab": {
          "base_uri": "https://localhost:8080/",
          "height": 266
        }
      },
      "source": [
        "import torch\n",
        "from torch.autograd import Variable\n",
        "import os\n",
        "import argparse\n",
        "from datetime import datetime\n",
        "import torch.nn.functional as F\n",
        "\n",
        "\n",
        "def structure_loss(pred, mask):\n",
        "    weit = 1 + 5*torch.abs(F.avg_pool2d(mask, kernel_size=31, stride=1, padding=15) - mask)\n",
        "    wbce = F.binary_cross_entropy_with_logits(pred, mask, reduce='none')\n",
        "    wbce = (weit*wbce).sum(dim=(2, 3)) / weit.sum(dim=(2, 3))\n",
        "\n",
        "    pred = torch.sigmoid(pred)\n",
        "    inter = ((pred * mask)*weit).sum(dim=(2, 3))\n",
        "    union = ((pred + mask)*weit).sum(dim=(2, 3))\n",
        "    wiou = 1 - (inter + 1)/(union - inter+1)\n",
        "    return (wbce + wiou).mean()\n",
        "\n",
        "\n",
        "def train(train_loader, model, optimizer, epoch):\n",
        "    model.train()\n",
        "    # ---- multi-scale training ----\n",
        "    size_rates = [0.75, 1, 1.25]\n",
        "    loss_record2, loss_record3, loss_record4, loss_record5 = AvgMeter(), AvgMeter(), AvgMeter(), AvgMeter()\n",
        "    for i, pack in enumerate(train_loader, start=1):\n",
        "        for rate in size_rates:\n",
        "            optimizer.zero_grad()\n",
        "            # ---- data prepare ----\n",
        "            images, gts = pack\n",
        "            images = Variable(images).cuda()\n",
        "            gts = Variable(gts).cuda()\n",
        "            # ---- rescale ----\n",
        "            trainsize = int(round(opt.trainsize*rate/32)*32)\n",
        "            if rate != 1:\n",
        "                images = F.upsample(images, size=(trainsize, trainsize), mode='bilinear', align_corners=True)\n",
        "                gts = F.upsample(gts, size=(trainsize, trainsize), mode='bilinear', align_corners=True)\n",
        "            # ---- forward ----\n",
        "            lateral_map_5, lateral_map_4, lateral_map_3, lateral_map_2 = model(images)\n",
        "            # ---- loss function ----\n",
        "            loss5 = structure_loss(lateral_map_5, gts)\n",
        "            loss4 = structure_loss(lateral_map_4, gts)\n",
        "            loss3 = structure_loss(lateral_map_3, gts)\n",
        "            loss2 = structure_loss(lateral_map_2, gts)\n",
        "            loss = loss2 + loss3 + loss4 + loss5    # TODO: try different weights for loss\n",
        "            # ---- backward ----\n",
        "            loss.backward()\n",
        "            clip_gradient(optimizer, opt.clip)\n",
        "            optimizer.step()\n",
        "            # ---- recording loss ----\n",
        "            if rate == 1:\n",
        "                loss_record2.update(loss2.data, opt.batchsize)\n",
        "                loss_record3.update(loss3.data, opt.batchsize)\n",
        "                loss_record4.update(loss4.data, opt.batchsize)\n",
        "                loss_record5.update(loss5.data, opt.batchsize)\n",
        "        # ---- train visualization ----\n",
        "        if i % 20 == 0 or i == total_step:\n",
        "            print('{} Epoch [{:03d}/{:03d}], Step [{:04d}/{:04d}], '\n",
        "                  '[lateral-2: {:.4f}, lateral-3: {:0.4f}, lateral-4: {:0.4f}, lateral-5: {:0.4f}]'.\n",
        "                  format(datetime.now(), epoch, opt.epoch, i, total_step,\n",
        "                         loss_record2.show(), loss_record3.show(), loss_record4.show(), loss_record5.show()))\n",
        "    save_path = 'snapshots/{}/'.format(opt.train_save)\n",
        "    os.makedirs(save_path, exist_ok=True)\n",
        "    if (epoch+1) % 10 == 0:\n",
        "        torch.save(model.state_dict(), save_path + 'PraNet-%d.pth' % epoch)\n",
        "        print('[Saving Snapshot:]', save_path + 'PraNet-%d.pth'% epoch)\n",
        "\n",
        "'''\n",
        "if __name__ == '__main__':\n",
        "    parser = argparse.ArgumentParser()\n",
        "    parser.add_argument('--epoch', type=int,\n",
        "                        default=20, help='epoch number')\n",
        "    parser.add_argument('--lr', type=float,\n",
        "                        default=1e-4, help='learning rate')\n",
        "    parser.add_argument('--batchsize', type=int,\n",
        "                        default=16, help='training batch size')\n",
        "    parser.add_argument('--trainsize', type=int,\n",
        "                        default=352, help='training dataset size')\n",
        "    parser.add_argument('--clip', type=float,\n",
        "                        default=0.5, help='gradient clipping margin')\n",
        "    parser.add_argument('--decay_rate', type=float,\n",
        "                        default=0.1, help='decay rate of learning rate')\n",
        "    parser.add_argument('--decay_epoch', type=int,\n",
        "                        default=50, help='every n epochs decay learning rate')\n",
        "    parser.add_argument('--train_path', type=str,\n",
        "                        default='./data/TrainDataset', help='path to train dataset')\n",
        "    parser.add_argument('--train_save', type=str,\n",
        "                        default='PraNet_Res2Net')\n",
        "    opt = parser.parse_args()\n",
        "\n",
        "    # ---- build models ----\n",
        "    # torch.cuda.set_device(0)  # set your gpu device\n",
        "    model = PraNet().cuda()\n",
        "\n",
        "    # ---- flops and params ----\n",
        "    # from utils.utils import CalParams\n",
        "    # x = torch.randn(1, 3, 352, 352).cuda()\n",
        "    # CalParams(lib, x)\n",
        "\n",
        "    params = model.parameters()\n",
        "    optimizer = torch.optim.Adam(params, opt.lr)\n",
        "\n",
        "    image_root = '{}/images/'.format(opt.train_path)\n",
        "    gt_root = '{}/masks/'.format(opt.train_path)\n",
        "\n",
        "    train_loader = get_loader(image_root, gt_root, batchsize=opt.batchsize, trainsize=opt.trainsize)\n",
        "    total_step = len(train_loader)\n",
        "\n",
        "    print(\"#\"*20, \"Start Training\", \"#\"*20)\n",
        "\n",
        "    for epoch in range(1, opt.epoch):\n",
        "        adjust_lr(optimizer, opt.lr, epoch, opt.decay_rate, opt.decay_epoch)\n",
        "        train(train_loader, model, optimizer, epoch)\n",
        "'''"
      ],
      "execution_count": null,
      "outputs": [
        {
          "output_type": "stream",
          "text": [
            "usage: ipykernel_launcher.py [-h] [--epoch EPOCH] [--lr LR]\n",
            "                             [--batchsize BATCHSIZE] [--trainsize TRAINSIZE]\n",
            "                             [--clip CLIP] [--decay_rate DECAY_RATE]\n",
            "                             [--decay_epoch DECAY_EPOCH]\n",
            "                             [--train_path TRAIN_PATH]\n",
            "                             [--train_save TRAIN_SAVE]\n",
            "ipykernel_launcher.py: error: unrecognized arguments: -f /root/.local/share/jupyter/runtime/kernel-b3596e1b-dcf2-43b0-b405-f7e2a31ba498.json\n"
          ],
          "name": "stderr"
        },
        {
          "output_type": "error",
          "ename": "SystemExit",
          "evalue": "ignored",
          "traceback": [
            "An exception has occurred, use %tb to see the full traceback.\n",
            "\u001b[0;31mSystemExit\u001b[0m\u001b[0;31m:\u001b[0m 2\n"
          ]
        },
        {
          "output_type": "stream",
          "text": [
            "/usr/local/lib/python3.6/dist-packages/IPython/core/interactiveshell.py:2890: UserWarning: To exit: use 'exit', 'quit', or Ctrl-D.\n",
            "  warn(\"To exit: use 'exit', 'quit', or Ctrl-D.\", stacklevel=1)\n"
          ],
          "name": "stderr"
        }
      ]
    },
    {
      "cell_type": "code",
      "metadata": {
        "id": "QF_KXk_ON9_O"
      },
      "source": [
        ""
      ],
      "execution_count": null,
      "outputs": []
    }
  ]
}